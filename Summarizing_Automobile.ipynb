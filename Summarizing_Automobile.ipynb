{
 "cells": [
  {
   "cell_type": "code",
   "execution_count": null,
   "id": "2aec6626",
   "metadata": {},
   "outputs": [],
   "source": [
    "import pandas as pd\n",
    "\n",
    "car_eval = pd.read_csv('car_eval_dataset.csv')\n",
    "print(car_eval.head())\n",
    "\n",
    "manufacturer_country = car_eval.manufacturer_country.value_counts(normalize = True)\n",
    "print(manufacturer_country)\n",
    "manufacturer_no_value = car_eval['manufacturer_country'].value_counts()/len(car_eval['manufacturer_country'])\n",
    "print(manufacturer_no_value)\n",
    "\n",
    "buying_cost = car_eval['buying_cost'].unique()\n",
    "print(buying_cost)\n",
    "\n",
    "buying_cost_categories = ['low', 'med', 'high', 'vhigh']\n",
    "\n",
    "car_eval['buying_cost'] = pd.Categorical(car_eval['buying_cost'], buying_cost_categories, ordered=True)\n",
    "\n",
    "median = np.median(car_eval['buying_cost'].cat.codes)\n",
    "print(median)\n",
    "median_category = buying_cost_categories[int(median)]\n",
    "print(median_category)\n",
    "\n",
    "luggage = car_eval.luggage.value_counts(normalize = True)\n",
    "print(luggage)\n",
    "luggage_nodrop = car_eval.luggage.value_counts(dropna = False, normalize = True)\n",
    "print(luggage_nodrop)\n",
    "\n",
    "luggage_no_value = car_eval['luggage'].value_counts()/len(car_eval['luggage'])\n",
    "print(luggage_no_value)\n",
    "\n",
    "doors = (car_eval['doors'] == '5more').sum()\n",
    "print(doors)\n",
    "\n",
    "doors_mean = (car_eval['doors'] == '5more').mean()\n",
    "print(doors_mean)\n"
   ]
  }
 ],
 "metadata": {
  "kernelspec": {
   "display_name": "Python 3",
   "language": "python",
   "name": "python3"
  },
  "language_info": {
   "codemirror_mode": {
    "name": "ipython",
    "version": 3
   },
   "file_extension": ".py",
   "mimetype": "text/x-python",
   "name": "python",
   "nbconvert_exporter": "python",
   "pygments_lexer": "ipython3",
   "version": "3.8.8"
  }
 },
 "nbformat": 4,
 "nbformat_minor": 5
}
